{
 "cells": [
  {
   "cell_type": "code",
   "execution_count": 81,
   "metadata": {
    "collapsed": false
   },
   "outputs": [],
   "source": [
    "def viterbi_enc(fsm,init_st,x):\n",
    "    code_stream = []\n",
    "    ps = init_st\n",
    "    for c in x:\n",
    "        code_stream.append(fsm[ps][c]['out'])\n",
    "        ns = fsm[ps][c]['ns']\n",
    "        ps = ns\n",
    "    return code_stream\n",
    "\n",
    "def viterbi_dec(fsm_inv,code_stream):\n",
    "    dp_list = []\n",
    "    d = {}\n",
    "    for st in fsm_inv.keys():\n",
    "        d[st] = (0,st)     \n",
    "    dp_list.append(d)\n",
    "    \n",
    "    for code in code_stream:\n",
    "        d = {}\n",
    "        for st in fsm_inv.keys():\n",
    "            d[st] = min([(hamming_distance(code,fsm_inv[st][src_st]['out']) +\n",
    "                             dp_list[-1][src_st][0],src_st) for src_st in fsm_inv[st].keys()])  \n",
    "            \n",
    "        dp_list.append(d)\n",
    "    decoded_msg = ''\n",
    "    st = min([(dp_list[-1][k][0],k) for k in dp_list[-1].keys()])[1]\n",
    "    for i in range(len(dp_list)-1,0,-1):\n",
    "        src_st = dp_list[i][st][1]\n",
    "        decoded_msg = fsm_inv[st][src_st]['in'] + decoded_msg\n",
    "        st = src_st\n",
    "    return decoded_msg\n",
    "\n",
    "def hamming_distance(s1,s2):\n",
    "    dist = 0\n",
    "    for i in range(len(s1)):\n",
    "        if not s1[i] == s2[i]:\n",
    "            dist+=1\n",
    "    return dist"
   ]
  },
  {
   "cell_type": "code",
   "execution_count": 82,
   "metadata": {
    "collapsed": true
   },
   "outputs": [],
   "source": [
    "fsm = {'a':{'0':{'ns':'a','out':'00'},\n",
    "            '1':{'ns':'b','out':'11'}},\n",
    "       'b':{'0':{'ns':'c','out':'10'},\n",
    "            '1':{'ns':'d','out':'01'}},\n",
    "       'c':{'0':{'ns':'a','out':'11'},\n",
    "            '1':{'ns':'b','out':'00'}},\n",
    "       'd':{'0':{'ns':'c','out':'01'},\n",
    "            '1':{'ns':'d','out':'10'}}\n",
    "      }\n",
    "fsm_inv = {'a':{'a':{'in':'0', 'out':'00'},\n",
    "                'c':{'in':'0', 'out':'11'}},\n",
    "           'b':{'a':{'in':'1', 'out':'11'},\n",
    "                'c':{'in':'1', 'out':'11'}},\n",
    "           'c':{'b':{'in':'0', 'out':'10'},\n",
    "                'd':{'in':'0', 'out':'01'}},\n",
    "           'd':{'b':{'in':'1', 'out':'01'},\n",
    "                'd':{'in':'1', 'out':'10'}}\n",
    "          }"
   ]
  },
  {
   "cell_type": "code",
   "execution_count": 86,
   "metadata": {
    "collapsed": false
   },
   "outputs": [],
   "source": [
    "code_stream = viterbi_enc(fsm,'a','10011')"
   ]
  },
  {
   "cell_type": "code",
   "execution_count": 84,
   "metadata": {
    "collapsed": false
   },
   "outputs": [
    {
     "data": {
      "text/plain": [
       "'10011'"
      ]
     },
     "execution_count": 84,
     "metadata": {},
     "output_type": "execute_result"
    }
   ],
   "source": [
    "msg = viterbi_dec(fsm_inv,code_stream)\n",
    "msg"
   ]
  }
 ],
 "metadata": {
  "kernelspec": {
   "display_name": "Python 3",
   "language": "python",
   "name": "python3"
  },
  "language_info": {
   "codemirror_mode": {
    "name": "ipython",
    "version": 3
   },
   "file_extension": ".py",
   "mimetype": "text/x-python",
   "name": "python",
   "nbconvert_exporter": "python",
   "pygments_lexer": "ipython3",
   "version": "3.6.0"
  }
 },
 "nbformat": 4,
 "nbformat_minor": 2
}
