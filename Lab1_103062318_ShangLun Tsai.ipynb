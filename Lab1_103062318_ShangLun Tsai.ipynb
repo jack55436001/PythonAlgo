{
 "cells": [
  {
   "cell_type": "markdown",
   "metadata": {},
   "source": [
    "# Sorting Algorithms in Python"
   ]
  },
  {
   "cell_type": "markdown",
   "metadata": {},
   "source": [
    "Bubble_sort"
   ]
  },
  {
   "cell_type": "code",
   "execution_count": 15,
   "metadata": {
    "collapsed": false
   },
   "outputs": [],
   "source": [
    "import time\n",
    "def bubble_sort(inList):\n",
    "    length = len(inList)\n",
    "    begin = time.time()\n",
    "    for top in range(length-1):\n",
    "        bubble = length-1\n",
    "        end =time.time()\n",
    "        if end - begin >=300 :\n",
    "            print (\"TIME OUT\")\n",
    "            break\n",
    "        while bubble > top:\n",
    "            if inList[bubble] < inList[bubble-1]:\n",
    "                inList[bubble],inList[bubble-1] = inList[bubble-1],inList[bubble]\n",
    "            bubble -= 1"
   ]
  },
  {
   "cell_type": "code",
   "execution_count": 16,
   "metadata": {
    "collapsed": false
   },
   "outputs": [
    {
     "data": {
      "text/plain": [
       "[0, 1, 2, 3, 5, 7, 7]"
      ]
     },
     "execution_count": 16,
     "metadata": {},
     "output_type": "execute_result"
    }
   ],
   "source": [
    "myList = [5,7,3,1,0,7,2]\n",
    "bubble_sort(myList)\n",
    "myList"
   ]
  },
  {
   "cell_type": "markdown",
   "metadata": {},
   "source": [
    "Merge_sort"
   ]
  },
  {
   "cell_type": "code",
   "execution_count": 17,
   "metadata": {
    "collapsed": false
   },
   "outputs": [],
   "source": [
    "def merge_sort(x):\n",
    "    \n",
    "    length = len(x)\n",
    "    if length <=1 :\n",
    "        return x[:]\n",
    "\n",
    "    y1 = merge_sort(x[:length//2])\n",
    "    y2 = merge_sort(x[length//2:])\n",
    "    l1,l2 = len(y1) , len(y2)\n",
    "    i1,i2 = 0,0;\n",
    "    y= []\n",
    "    while i1<l1 or i2<l2:\n",
    "        if i1==l1:\n",
    "            y.extend(y2[i2:])\n",
    "            i2=l2\n",
    "        elif i2==l2:\n",
    "            y.extend(y1[i1:])\n",
    "            i1=l1\n",
    "        else :\n",
    "            if y1[i1]<y2[i2]:\n",
    "                y.append(y1[i1])\n",
    "                i1+=1\n",
    "            else:\n",
    "                y.append(y2[i2])\n",
    "                i2+=1\n",
    "                \n",
    "    return y"
   ]
  },
  {
   "cell_type": "code",
   "execution_count": 18,
   "metadata": {
    "collapsed": false
   },
   "outputs": [
    {
     "data": {
      "text/plain": [
       "[0, 1, 2, 3, 5, 7, 7]"
      ]
     },
     "execution_count": 18,
     "metadata": {},
     "output_type": "execute_result"
    }
   ],
   "source": [
    "myList = [5,7,3,1,0,7,2]\n",
    "merge_sort(myList)"
   ]
  },
  {
   "cell_type": "markdown",
   "metadata": {},
   "source": [
    "Quick_sort"
   ]
  },
  {
   "cell_type": "code",
   "execution_count": 19,
   "metadata": {
    "collapsed": false
   },
   "outputs": [],
   "source": [
    "def quick_sort(myList):\n",
    "    if len(myList)<=1:\n",
    "        return myList\n",
    "    else:\n",
    "        pivot = myList[0]\n",
    "        small = []\n",
    "        medium = []\n",
    "        large = []\n",
    "        for index in range(len(myList)):\n",
    "            if myList[index] < pivot:\n",
    "                small.append(myList[index])\n",
    "            elif myList[index] > pivot:\n",
    "                large.append(myList[index])\n",
    "            else:\n",
    "                medium.append(myList[index])\n",
    "                \n",
    "        return quick_sort(small) + medium + quick_sort(large)"
   ]
  },
  {
   "cell_type": "code",
   "execution_count": 20,
   "metadata": {
    "collapsed": false
   },
   "outputs": [
    {
     "data": {
      "text/plain": [
       "[0, 0, 0, 1, 2, 3, 3, 5, 5, 7, 7]"
      ]
     },
     "execution_count": 20,
     "metadata": {},
     "output_type": "execute_result"
    }
   ],
   "source": [
    "myList = [5,7,3,1,0,7,2,3,0,0,5]\n",
    "myList = quick_sort(myList)\n",
    "myList"
   ]
  },
  {
   "cell_type": "markdown",
   "metadata": {},
   "source": [
    "Heap_sort"
   ]
  },
  {
   "cell_type": "code",
   "execution_count": 21,
   "metadata": {
    "collapsed": false
   },
   "outputs": [],
   "source": [
    "def heap_sort(myList):\n",
    "    heapify(myList)\n",
    "    listlength = len(myList)\n",
    "    for i in range(listlength-1,0,-1):\n",
    "        myList[0],myList[i] = myList[i],myList[0]\n",
    "        shift_down(myList,0,i-1)\n",
    "    return \n",
    "\n",
    "def heapify(myList):\n",
    "    listlength = len(myList)\n",
    "    \n",
    "    for i in range(listlength):\n",
    "        shift_up(myList,i)\n",
    "    return \n",
    "\n",
    "def shift_up(myList,i):\n",
    "    if i==0:\n",
    "        return\n",
    "    else :\n",
    "        p = (i-1)//2\n",
    "        if myList[i]<myList[p]:\n",
    "            myList[i],myList[p]=myList[p],myList[i]\n",
    "            shift_up(myList,p)\n",
    "        else:\n",
    "            return\n",
    "\n",
    "def shift_down(myList,first,last):\n",
    "    p =first\n",
    "    l = p*2+1\n",
    "    r = p*2+2\n",
    "    if l>last :\n",
    "        pass\n",
    "    elif l<=last<r:\n",
    "        if myList[p]>myList[l]:\n",
    "            myList[p],myList[l] = myList[l],myList[p]\n",
    "    else : #last>=r\n",
    "        if myList[p]>min(myList[l],myList[r]):\n",
    "            if myList[l]<myList[r]:\n",
    "                myList[p],myList[l] = myList[l],myList[p]\n",
    "                shift_down(myList,l,last)\n",
    "            else :\n",
    "                myList[p],myList[r] = myList[r],myList[p]\n",
    "                shift_down(myList,r,last)                \n",
    "    return "
   ]
  },
  {
   "cell_type": "code",
   "execution_count": 22,
   "metadata": {
    "collapsed": false
   },
   "outputs": [
    {
     "data": {
      "text/plain": [
       "[7, 7, 5, 3, 2, 1, 0]"
      ]
     },
     "execution_count": 22,
     "metadata": {},
     "output_type": "execute_result"
    }
   ],
   "source": [
    "myList = [5,7,3,1,0,7,2]\n",
    "heap_sort(myList)\n",
    "myList"
   ]
  },
  {
   "cell_type": "markdown",
   "metadata": {},
   "source": [
    "Insertion_sort"
   ]
  },
  {
   "cell_type": "code",
   "execution_count": 23,
   "metadata": {
    "collapsed": false
   },
   "outputs": [],
   "source": [
    "import time\n",
    "def insertion_sort(myList):\n",
    "    begin = time.time()\n",
    "    for i in range(1,len(myList)):\n",
    "        j = i\n",
    "        end = time.time()\n",
    "        if end - begin >=300:\n",
    "            print (\"TIME OUT\")\n",
    "            break\n",
    "        while j>0 and myList[j]<myList[j-1]:\n",
    "            myList[j],myList[j-1] = myList[j-1],myList[j]\n",
    "            j-=1\n",
    "    return"
   ]
  },
  {
   "cell_type": "code",
   "execution_count": 24,
   "metadata": {
    "collapsed": false
   },
   "outputs": [
    {
     "data": {
      "text/plain": [
       "[0, 1, 2, 3, 5, 7, 7]"
      ]
     },
     "execution_count": 24,
     "metadata": {},
     "output_type": "execute_result"
    }
   ],
   "source": [
    "myList = [5,7,3,1,0,7,2]\n",
    "insertion_sort(myList)\n",
    "myList"
   ]
  },
  {
   "cell_type": "markdown",
   "metadata": {},
   "source": [
    "# Compare your problem with Python built-in function sorted() and list class method .sort()  (random)\n",
    "use time to compare\n",
    "\n",
    "take the same random myList's slice to compare\n",
    "\n",
    "X:XX:XX.XXXXXX means\n",
    "\n",
    "day:hour:second:microseconds"
   ]
  },
  {
   "cell_type": "markdown",
   "metadata": {},
   "source": [
    "Lists of 1K"
   ]
  },
  {
   "cell_type": "code",
   "execution_count": 31,
   "metadata": {
    "collapsed": false
   },
   "outputs": [
    {
     "name": "stdout",
     "output_type": "stream",
     "text": [
      "bubble_sort:\n",
      "0:00:00.175303\n",
      "merge_sort:\n",
      "0:00:00.006005\n",
      "quick_sort:\n",
      "0:00:00.004002\n",
      "heap_sort:\n",
      "0:00:00.012009\n",
      "insertion_sort:\n",
      "0:00:00.117083\n",
      "python build_in sort:\n",
      "0:00:00\n",
      "List class sort:\n",
      "0:00:00\n"
     ]
    }
   ],
   "source": [
    "import random\n",
    "import datetime\n",
    "myList = [random.randint(0, 1000000) for i in range(1000)]\n",
    "\n",
    "bubble_list = myList[:]\n",
    "start_time = datetime.datetime.now()\n",
    "bubble_sort(bubble_list)\n",
    "end_time = datetime.datetime.now()\n",
    "print (\"bubble_sort:\")\n",
    "print (end_time - start_time)\n",
    "\n",
    "\n",
    "merge_list = myList[:]\n",
    "start_time = datetime.datetime.now()\n",
    "merge_list = merge_sort(merge_list)\n",
    "end_time = datetime.datetime.now()\n",
    "print (\"merge_sort:\")\n",
    "print (end_time - start_time)\n",
    "\n",
    "\n",
    "quick_list = myList[:]\n",
    "start_time = datetime.datetime.now()\n",
    "quick_list = quick_sort(quick_list)\n",
    "end_time = datetime.datetime.now()\n",
    "print (\"quick_sort:\")\n",
    "print (end_time - start_time)\n",
    "\n",
    "\n",
    "heap_list = myList [:]\n",
    "start_time = datetime.datetime.now()\n",
    "heap_sort(heap_list)\n",
    "end_time = datetime.datetime.now()\n",
    "print (\"heap_sort:\")\n",
    "print (end_time - start_time)\n",
    "\n",
    "\n",
    "insertion_list = myList[:]\n",
    "start_time = datetime.datetime.now()\n",
    "insertion_sort(insertion_list)\n",
    "end_time = datetime.datetime.now()\n",
    "print (\"insertion_sort:\")\n",
    "print (end_time - start_time)\n",
    "\n",
    "\n",
    "build_in_list = myList[:]\n",
    "start_time = datetime.datetime.now()\n",
    "build_in_list = sorted(build_in_list)\n",
    "end_time = datetime.datetime.now()\n",
    "print (\"python build_in sort:\")\n",
    "print (end_time - start_time)\n",
    "\n",
    "\n",
    "listclass = myList[:]\n",
    "start_time = datetime.datetime.now()\n",
    "listclass.sort()\n",
    "end_time = datetime.datetime.now()\n",
    "print (\"List class sort:\")\n",
    "print (end_time - start_time)\n",
    "\n"
   ]
  },
  {
   "cell_type": "markdown",
   "metadata": {
    "collapsed": true
   },
   "source": [
    "time : (ps: because List class sort and python build_in sort are too fast so it represent as it didn't pass any time)\n",
    "    \n",
    "List class sort = python build_in sort < quick_sort < merge_sort < heap_sort < insertion_sort < bubble_sort"
   ]
  },
  {
   "cell_type": "markdown",
   "metadata": {},
   "source": [
    "Lists of 1M"
   ]
  },
  {
   "cell_type": "code",
   "execution_count": 32,
   "metadata": {
    "collapsed": false
   },
   "outputs": [
    {
     "name": "stdout",
     "output_type": "stream",
     "text": [
      "bubble_sort:\n",
      "TIME OUT\n",
      "merge_sort:\n",
      "0:00:13.041347\n",
      "quick_sort:\n",
      "0:00:10.841199\n",
      "heap_sort:\n",
      "0:00:30.520768\n",
      "insertion_sort:\n",
      "TIME OUT\n",
      "python build_in sort:\n",
      "0:00:00.862612\n",
      "List class sort:\n",
      "0:00:00.869622\n"
     ]
    }
   ],
   "source": [
    "myList = [random.randint(0, 1000000) for i in range(1000000)]\n",
    "\n",
    "bubble_list = myList[:]\n",
    "start_time = datetime.datetime.now()\n",
    "print (\"bubble_sort:\")\n",
    "bubble_sort(bubble_list)\n",
    "end_time = datetime.datetime.now()\n",
    "\n",
    "merge_list = myList[:]\n",
    "start_time = datetime.datetime.now()\n",
    "merge_list = merge_sort(merge_list)\n",
    "end_time = datetime.datetime.now()\n",
    "print (\"merge_sort:\")\n",
    "print (end_time - start_time)\n",
    "\n",
    "\n",
    "quick_list = myList[:]\n",
    "start_time = datetime.datetime.now()\n",
    "quick_list = quick_sort(quick_list)\n",
    "end_time = datetime.datetime.now()\n",
    "print (\"quick_sort:\")\n",
    "print (end_time - start_time)\n",
    "\n",
    "\n",
    "heap_list = myList [:]\n",
    "start_time = datetime.datetime.now()\n",
    "heap_sort(heap_list)\n",
    "end_time = datetime.datetime.now()\n",
    "print (\"heap_sort:\")\n",
    "print (end_time - start_time)\n",
    "\n",
    "\n",
    "insertion_list = myList[:]\n",
    "start_time = datetime.datetime.now()\n",
    "print (\"insertion_sort:\")\n",
    "insertion_sort(insertion_list)\n",
    "end_time = datetime.datetime.now()\n",
    "\n",
    "build_in_list = myList[:]\n",
    "start_time = datetime.datetime.now()\n",
    "build_in_list = sorted(build_in_list)\n",
    "end_time = datetime.datetime.now()\n",
    "print (\"python build_in sort:\")\n",
    "print (end_time - start_time)\n",
    "\n",
    "\n",
    "listclass = myList[:]\n",
    "start_time = datetime.datetime.now()\n",
    "listclass.sort()\n",
    "end_time = datetime.datetime.now()\n",
    "print (\"List class sort:\")\n",
    "print (end_time - start_time)\n"
   ]
  },
  {
   "cell_type": "markdown",
   "metadata": {},
   "source": [
    "time : (ps: insertion_sort and bubble_sort take so many time (I set 5min as timeout) so mark it time out)\n",
    "\n",
    "List class sort < python build_in sort < quick_sort < merge_sort < heap_sort < insertion_sort = bubble_sort"
   ]
  },
  {
   "cell_type": "markdown",
   "metadata": {},
   "source": [
    "Lists of 10M"
   ]
  },
  {
   "cell_type": "code",
   "execution_count": 15,
   "metadata": {
    "collapsed": false
   },
   "outputs": [
    {
     "name": "stdout",
     "output_type": "stream",
     "text": [
      "bubble_sort:\n",
      "TIME OUT\n",
      "merge_sort:\n",
      "0:01:59.769738\n",
      "quick_sort:\n",
      "0:01:38.353382\n",
      "heap_sort:\n",
      "0:05:23.835207\n",
      "insertion_sort:\n",
      "TIME OUT\n",
      "python build_in sort:\n",
      "0:00:12.551701\n",
      "List class sort:\n",
      "0:00:12.296886\n"
     ]
    }
   ],
   "source": [
    "myList = [random.randint(0, 1000000) for i in range(10000000)]\n",
    "\n",
    "bubble_list = myList[:]\n",
    "start_time = datetime.datetime.now()\n",
    "print (\"bubble_sort:\")\n",
    "bubble_sort(bubble_list)\n",
    "end_time = datetime.datetime.now()\n",
    "\n",
    "\n",
    "merge_list = myList[:]\n",
    "start_time = datetime.datetime.now()\n",
    "merge_list = merge_sort(merge_list)\n",
    "end_time = datetime.datetime.now()\n",
    "print (\"merge_sort:\")\n",
    "print (end_time - start_time)\n",
    "\n",
    "\n",
    "quick_list = myList[:]\n",
    "start_time = datetime.datetime.now()\n",
    "quick_list = quick_sort(quick_list)\n",
    "end_time = datetime.datetime.now()\n",
    "print (\"quick_sort:\")\n",
    "print (end_time - start_time)\n",
    "\n",
    "\n",
    "heap_list = myList [:]\n",
    "start_time = datetime.datetime.now()\n",
    "heap_sort(heap_list)\n",
    "end_time = datetime.datetime.now()\n",
    "print (\"heap_sort:\")\n",
    "print (end_time - start_time)\n",
    "\n",
    "\n",
    "insertion_list = myList[:]\n",
    "start_time = datetime.datetime.now()\n",
    "print (\"insertion_sort:\")\n",
    "insertion_sort(insertion_list)\n",
    "end_time = datetime.datetime.now()\n",
    "\n",
    "\n",
    "build_in_list = myList[:]\n",
    "start_time = datetime.datetime.now()\n",
    "build_in_list = sorted(build_in_list)\n",
    "end_time = datetime.datetime.now()\n",
    "print (\"python build_in sort:\")\n",
    "print (end_time - start_time)\n",
    "\n",
    "\n",
    "listclass = myList[:]\n",
    "start_time = datetime.datetime.now()\n",
    "listclass.sort()\n",
    "end_time = datetime.datetime.now()\n",
    "print (\"List class sort:\")\n",
    "print (end_time - start_time)\n"
   ]
  },
  {
   "cell_type": "markdown",
   "metadata": {},
   "source": [
    "time : (ps: insertion_sort and bubble_sort take so many time(I set 5min as timeout) so mark it time out)\n",
    "\n",
    "Because 10M items is too many I only print the time and 1M's items above is sufficient to check if it is correct\n",
    "\n",
    "List class sort < python build_in sort < quick_sort < merge_sort < heap_sort < insertion_sort = bubble_sort"
   ]
  },
  {
   "cell_type": "markdown",
   "metadata": {
    "collapsed": true
   },
   "source": [
    "# Compare your problem with Python built-in function sorted() and list class method .sort()  (sorted)\n",
    "use time to compare \n",
    "\n",
    "take the same random myList's slice to compare\n",
    "\n",
    "X:XX:XX.XXXXXX means\n",
    "\n",
    "day:hour:second:microseconds"
   ]
  },
  {
   "cell_type": "markdown",
   "metadata": {},
   "source": [
    "Lists of 1K"
   ]
  },
  {
   "cell_type": "code",
   "execution_count": 38,
   "metadata": {
    "collapsed": false
   },
   "outputs": [
    {
     "name": "stdout",
     "output_type": "stream",
     "text": [
      "bubble_sort:\n",
      "0:00:00.147189\n",
      "merge_sort:\n",
      "0:00:00.015626\n",
      "quick_sort:\n",
      "0:00:00\n",
      "heap_sort:\n",
      "0:00:00.015605\n",
      "insertion_sort:\n",
      "0:00:00.108069\n",
      "python build_in sort:\n",
      "0:00:00\n",
      "List class sort:\n",
      "0:00:00\n"
     ]
    }
   ],
   "source": [
    "import random\n",
    "import datetime\n",
    "myList = [random.randint(0, 1000000) for i in range(1000)]\n",
    "sorted(myList)\n",
    "\n",
    "bubble_list = myList[:]\n",
    "start_time = datetime.datetime.now()\n",
    "bubble_sort(bubble_list)\n",
    "end_time = datetime.datetime.now()\n",
    "print (\"bubble_sort:\")\n",
    "print (end_time - start_time)\n",
    "\n",
    "merge_list = myList[:]\n",
    "start_time = datetime.datetime.now()\n",
    "merge_list = merge_sort(merge_list)\n",
    "end_time = datetime.datetime.now()\n",
    "print (\"merge_sort:\")\n",
    "print (end_time - start_time)\n",
    "\n",
    "quick_list = myList[:]\n",
    "start_time = datetime.datetime.now()\n",
    "quick_list = quick_sort(quick_list)\n",
    "end_time = datetime.datetime.now()\n",
    "print (\"quick_sort:\")\n",
    "print (end_time - start_time)\n",
    "\n",
    "\n",
    "heap_list = myList [:]\n",
    "start_time = datetime.datetime.now()\n",
    "heap_sort(heap_list)\n",
    "end_time = datetime.datetime.now()\n",
    "print (\"heap_sort:\")\n",
    "print (end_time - start_time)\n",
    "\n",
    "insertion_list = myList[:]\n",
    "start_time = datetime.datetime.now()\n",
    "insertion_sort(insertion_list)\n",
    "end_time = datetime.datetime.now()\n",
    "print (\"insertion_sort:\")\n",
    "print (end_time - start_time)\n",
    "\n",
    "\n",
    "build_in_list = myList[:]\n",
    "start_time = datetime.datetime.now()\n",
    "build_in_list = sorted(build_in_list)\n",
    "end_time = datetime.datetime.now()\n",
    "print (\"python build_in sort:\")\n",
    "print (end_time - start_time)\n",
    "\n",
    "\n",
    "listclass = myList[:]\n",
    "start_time = datetime.datetime.now()\n",
    "listclass.sort()\n",
    "end_time = datetime.datetime.now()\n",
    "print (\"List class sort:\")\n",
    "print (end_time - start_time)\n",
    "\n"
   ]
  },
  {
   "cell_type": "markdown",
   "metadata": {},
   "source": [
    "time : (ps: because List class sort python build_in sort and quick_sort are too fast so it represent as it didn't pass any time)\n",
    "\n",
    "List class sort = python build_in sort = quick_sort < merge_sort < heap_sort < insertion_sort < bubble_sort"
   ]
  },
  {
   "cell_type": "markdown",
   "metadata": {},
   "source": [
    "Lists of 1M"
   ]
  },
  {
   "cell_type": "code",
   "execution_count": 39,
   "metadata": {
    "collapsed": false
   },
   "outputs": [
    {
     "name": "stdout",
     "output_type": "stream",
     "text": [
      "bubble_sort:\n",
      "TIME OUT\n",
      "merge_sort:\n",
      "0:00:09.758931\n",
      "quick_sort:\n",
      "0:00:08.479999\n",
      "heap_sort:\n",
      "0:00:22.643076\n",
      "insertion_sort:\n",
      "TIME OUT\n",
      "python build_in sort:\n",
      "0:00:00.924657\n",
      "List class sort:\n",
      "0:00:00.899645\n"
     ]
    }
   ],
   "source": [
    "myList = [random.randint(0, 1000000) for i in range(1000000)]\n",
    "sorted(myList)\n",
    "\n",
    "bubble_list = myList[:]\n",
    "start_time = datetime.datetime.now()\n",
    "print (\"bubble_sort:\")\n",
    "bubble_sort(bubble_list)\n",
    "end_time = datetime.datetime.now()\n",
    "\n",
    "merge_list = myList[:]\n",
    "start_time = datetime.datetime.now()\n",
    "merge_list = merge_sort(merge_list)\n",
    "end_time = datetime.datetime.now()\n",
    "print (\"merge_sort:\")\n",
    "print (end_time - start_time)\n",
    "\n",
    "\n",
    "quick_list = myList[:]\n",
    "start_time = datetime.datetime.now()\n",
    "quick_list = quick_sort(quick_list)\n",
    "end_time = datetime.datetime.now()\n",
    "print (\"quick_sort:\")\n",
    "print (end_time - start_time)\n",
    "\n",
    "\n",
    "heap_list = myList [:]\n",
    "start_time = datetime.datetime.now()\n",
    "heap_sort(heap_list)\n",
    "end_time = datetime.datetime.now()\n",
    "print (\"heap_sort:\")\n",
    "print (end_time - start_time)\n",
    "\n",
    "\n",
    "insertion_list = myList[:]\n",
    "start_time = datetime.datetime.now()\n",
    "print (\"insertion_sort:\")\n",
    "insertion_sort(insertion_list)\n",
    "end_time = datetime.datetime.now()\n",
    "\n",
    "build_in_list = myList[:]\n",
    "start_time = datetime.datetime.now()\n",
    "build_in_list = sorted(build_in_list)\n",
    "end_time = datetime.datetime.now()\n",
    "print (\"python build_in sort:\")\n",
    "print (end_time - start_time)\n",
    "\n",
    "listclass = myList[:]\n",
    "start_time = datetime.datetime.now()\n",
    "listclass.sort()\n",
    "end_time = datetime.datetime.now()\n",
    "print (\"List class sort:\")\n",
    "print (end_time - start_time)"
   ]
  },
  {
   "cell_type": "markdown",
   "metadata": {},
   "source": [
    "time : (ps: insertion_sort and bubble_sort take so many time(I set 5min as timeout) so mark it time out)\n",
    "\n",
    "List class sort < python build_in sort < quick_sort < merge_sort < heap_sort < insertion_sort < bubble_sort"
   ]
  },
  {
   "cell_type": "markdown",
   "metadata": {},
   "source": [
    "Lists of 10M"
   ]
  },
  {
   "cell_type": "code",
   "execution_count": 40,
   "metadata": {
    "collapsed": false
   },
   "outputs": [
    {
     "name": "stdout",
     "output_type": "stream",
     "text": [
      "bubble_sort:\n",
      "TIME OUT\n",
      "merge_sort:\n",
      "0:02:17.318934\n",
      "quick_sort:\n",
      "0:01:52.921886\n",
      "heap_sort:\n",
      "0:05:40.690341\n",
      "insertion_sort:\n",
      "TIME OUT\n",
      "python build_in sort:\n",
      "0:00:15.618622\n",
      "List class sort:\n",
      "0:00:14.958409\n"
     ]
    }
   ],
   "source": [
    "myList = [random.randint(0, 1000000) for i in range(10000000)]\n",
    "sorted(myList)\n",
    "\n",
    "bubble_list = myList[:]\n",
    "start_time = datetime.datetime.now()\n",
    "print (\"bubble_sort:\")\n",
    "bubble_sort(bubble_list)\n",
    "end_time = datetime.datetime.now()\n",
    "\n",
    "\n",
    "merge_list = myList[:]\n",
    "start_time = datetime.datetime.now()\n",
    "merge_list = merge_sort(merge_list)\n",
    "end_time = datetime.datetime.now()\n",
    "print (\"merge_sort:\")\n",
    "print (end_time - start_time)\n",
    "\n",
    "\n",
    "quick_list = myList[:]\n",
    "start_time = datetime.datetime.now()\n",
    "quick_list = quick_sort(quick_list)\n",
    "end_time = datetime.datetime.now()\n",
    "print (\"quick_sort:\")\n",
    "print (end_time - start_time)\n",
    "\n",
    "\n",
    "heap_list = myList [:]\n",
    "start_time = datetime.datetime.now()\n",
    "heap_sort(heap_list)\n",
    "end_time = datetime.datetime.now()\n",
    "print (\"heap_sort:\")\n",
    "print (end_time - start_time)\n",
    "\n",
    "\n",
    "insertion_list = myList[:]\n",
    "start_time = datetime.datetime.now()\n",
    "print (\"insertion_sort:\")\n",
    "insertion_sort(insertion_list)\n",
    "end_time = datetime.datetime.now()\n",
    "\n",
    "\n",
    "build_in_list = myList[:]\n",
    "start_time = datetime.datetime.now()\n",
    "build_in_list = sorted(build_in_list)\n",
    "end_time = datetime.datetime.now()\n",
    "print (\"python build_in sort:\")\n",
    "print (end_time - start_time)\n",
    "\n",
    "\n",
    "listclass = myList[:]\n",
    "start_time = datetime.datetime.now()\n",
    "listclass.sort()\n",
    "end_time = datetime.datetime.now()\n",
    "print (\"List class sort:\")\n",
    "print (end_time - start_time)\n"
   ]
  },
  {
   "cell_type": "markdown",
   "metadata": {},
   "source": [
    "time : (ps: insertion_sort and bubble_sort take so many time(I set 5min as timeout) so mark it time out)\n",
    "\n",
    "List class sort < python build_in sort < quick_sort < merge_sort < heap_sort < insertion_sort < bubble_sort"
   ]
  },
  {
   "cell_type": "markdown",
   "metadata": {},
   "source": [
    "# Comments"
   ]
  },
  {
   "cell_type": "markdown",
   "metadata": {},
   "source": [
    "Although bubble_sort and insertion_sort have time complexity o(n^2) but their constant are not same \n",
    "\n",
    "due to our time compare we know it looks like that bubble_sort's constant is bigger than insertion_sort\n",
    "\n",
    "so bubble_sort's process time is more than insertion_sort\n",
    "\n",
    "same concept can apply on merge_sort heap_sort and quick_sort\n",
    "\n",
    "By the way in the question two we use sorted List it can use o(n) time to check if it is sorted\n",
    "\n",
    "and it can improve some algorithm like insertion_sort (due to the inner loop can only check one time to break while)\n",
    "\n",
    "but it can also disapprove some algorithm like quick_sort (due to bad pivot select on our version of quick_sort)"
   ]
  },
  {
   "cell_type": "code",
   "execution_count": null,
   "metadata": {
    "collapsed": true
   },
   "outputs": [],
   "source": []
  }
 ],
 "metadata": {
  "kernelspec": {
   "display_name": "Python 3",
   "language": "python",
   "name": "python3"
  },
  "language_info": {
   "codemirror_mode": {
    "name": "ipython",
    "version": 3
   },
   "file_extension": ".py",
   "mimetype": "text/x-python",
   "name": "python",
   "nbconvert_exporter": "python",
   "pygments_lexer": "ipython3",
   "version": "3.6.0"
  }
 },
 "nbformat": 4,
 "nbformat_minor": 2
}
