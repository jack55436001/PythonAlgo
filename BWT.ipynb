{
 "cells": [
  {
   "cell_type": "code",
   "execution_count": 28,
   "metadata": {
    "collapsed": true
   },
   "outputs": [],
   "source": [
    "def rotate_sort(text):\n",
    "    row = [s for s in text]\n",
    "    length = len(row)\n",
    "    mat = []\n",
    "    for i in range(length):\n",
    "        mat.append(row)\n",
    "        row = row[1:]+ [row[0]]\n",
    "    return sorted(mat)\n",
    "def first_col_dict(mat):\n",
    "    offset_dict = {}\n",
    "    length = len(mat)\n",
    "    for i in range(length):\n",
    "        s = mat[i][0]\n",
    "        if s not in offset_dict:\n",
    "            offset_dict[s] = i\n",
    "    return offset_dict\n",
    "def inv_bwt(mat,offset_dict):\n",
    "    length = len(mat)\n",
    "    last_dict = {}\n",
    "    last_index = [0]*length\n",
    "    for i in range(length):\n",
    "        s = mat[i][-1]\n",
    "        if s not in last_dict:\n",
    "            last_dict[s] = 0\n",
    "        else:\n",
    "            last_dict[s] +=1\n",
    "        last_index[i] = last_dict[s]\n",
    "        \n",
    "    recover = ['$']\n",
    "    i = 0\n",
    "    while mat[i][-1]!='$':\n",
    "        s = mat[i][-1]\n",
    "        recover = [s] + recover\n",
    "        i = offset_dict[s] + last_index[i]\n",
    "        \n",
    "    return ''.join(recover)"
   ]
  },
  {
   "cell_type": "code",
   "execution_count": 29,
   "metadata": {
    "collapsed": false
   },
   "outputs": [],
   "source": [
    "mat = rotate_sort('abaaba$')"
   ]
  },
  {
   "cell_type": "code",
   "execution_count": 30,
   "metadata": {
    "collapsed": false
   },
   "outputs": [
    {
     "data": {
      "text/plain": [
       "{'$': 0, 'a': 1, 'b': 5}"
      ]
     },
     "execution_count": 30,
     "metadata": {},
     "output_type": "execute_result"
    }
   ],
   "source": [
    "offset_dict = first_col_dict(mat)\n",
    "offset_dict"
   ]
  },
  {
   "cell_type": "code",
   "execution_count": 31,
   "metadata": {
    "collapsed": false
   },
   "outputs": [
    {
     "data": {
      "text/plain": [
       "'abaaba$'"
      ]
     },
     "execution_count": 31,
     "metadata": {},
     "output_type": "execute_result"
    }
   ],
   "source": [
    "inv_bwt(mat,offset_dict)"
   ]
  },
  {
   "cell_type": "code",
   "execution_count": null,
   "metadata": {
    "collapsed": true
   },
   "outputs": [],
   "source": []
  }
 ],
 "metadata": {
  "kernelspec": {
   "display_name": "Python 3",
   "language": "python",
   "name": "python3"
  },
  "language_info": {
   "codemirror_mode": {
    "name": "ipython",
    "version": 3
   },
   "file_extension": ".py",
   "mimetype": "text/x-python",
   "name": "python",
   "nbconvert_exporter": "python",
   "pygments_lexer": "ipython3",
   "version": "3.6.0"
  }
 },
 "nbformat": 4,
 "nbformat_minor": 2
}
