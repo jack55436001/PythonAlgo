{
 "cells": [
  {
   "cell_type": "markdown",
   "metadata": {},
   "source": [
    "# Dynamic program"
   ]
  },
  {
   "cell_type": "markdown",
   "metadata": {},
   "source": [
    "Fibonacci number generation"
   ]
  },
  {
   "cell_type": "code",
   "execution_count": 16,
   "metadata": {
    "collapsed": false
   },
   "outputs": [],
   "source": [
    "def fib_bf(n):\n",
    "    if n ==0 or n==1:\n",
    "        return n\n",
    "    else:\n",
    "        return fib_bf(n-1) + fib_bf (n-2)"
   ]
  },
  {
   "cell_type": "code",
   "execution_count": 17,
   "metadata": {
    "collapsed": false
   },
   "outputs": [
    {
     "data": {
      "text/plain": [
       "55"
      ]
     },
     "execution_count": 17,
     "metadata": {},
     "output_type": "execute_result"
    }
   ],
   "source": [
    "fib_bf(10)"
   ]
  },
  {
   "cell_type": "code",
   "execution_count": 4,
   "metadata": {
    "collapsed": true
   },
   "outputs": [],
   "source": [
    "def fib_dict(n,d):\n",
    "    if n in d:\n",
    "        return d[n]\n",
    "    else:\n",
    "        sol = fib_dict(n-1,d) + fib_dict(n-2,d)\n",
    "        d[n] = sol\n",
    "        print (\"Insert entry {}:{}\".format(n,sol))\n",
    "        return sol"
   ]
  },
  {
   "cell_type": "code",
   "execution_count": 5,
   "metadata": {
    "collapsed": false
   },
   "outputs": [
    {
     "name": "stdout",
     "output_type": "stream",
     "text": [
      "Insert entry 2:1\n",
      "Insert entry 3:2\n",
      "Insert entry 4:3\n",
      "Insert entry 5:5\n",
      "Insert entry 6:8\n",
      "Insert entry 7:13\n",
      "Insert entry 8:21\n",
      "Insert entry 9:34\n",
      "Insert entry 10:55\n"
     ]
    },
    {
     "data": {
      "text/plain": [
       "55"
      ]
     },
     "execution_count": 5,
     "metadata": {},
     "output_type": "execute_result"
    }
   ],
   "source": [
    "d = {0:0,1:1}\n",
    "fib_dict(10,d)"
   ]
  },
  {
   "cell_type": "code",
   "execution_count": 6,
   "metadata": {
    "collapsed": false
   },
   "outputs": [],
   "source": [
    "def fib(n):\n",
    "    sol = [-1 for i in range(n+1)] #list comprehension\n",
    "    sol[0] = 1\n",
    "    sol[1] = 1\n",
    "    for i in range(2,n+1):\n",
    "        sol[i] = sol[i-1] + sol[i-2]\n",
    "    return sol"
   ]
  },
  {
   "cell_type": "code",
   "execution_count": 7,
   "metadata": {
    "collapsed": false
   },
   "outputs": [
    {
     "data": {
      "text/plain": [
       "[1, 1, 2, 3, 5, 8, 13, 21, 34, 55, 89]"
      ]
     },
     "execution_count": 7,
     "metadata": {},
     "output_type": "execute_result"
    }
   ],
   "source": [
    "sol = fib(10)\n",
    "sol"
   ]
  },
  {
   "cell_type": "markdown",
   "metadata": {},
   "source": [
    "Longest Common Subsequence Algorithm"
   ]
  },
  {
   "cell_type": "code",
   "execution_count": 8,
   "metadata": {
    "collapsed": false
   },
   "outputs": [],
   "source": [
    "def lcs_bf(x,y):\n",
    "    if len(x)==0 or len(y)==0:\n",
    "        return 0\n",
    "    else:\n",
    "        if x[-1] == y[-1]:\n",
    "            return lcs_bf(x[:-1],y[:-1])+1\n",
    "        else:\n",
    "            return max(lcs_bf(x[:-1],y[:]),lcs_bf(x[:],y[:-1]))"
   ]
  },
  {
   "cell_type": "code",
   "execution_count": 9,
   "metadata": {
    "collapsed": false
   },
   "outputs": [
    {
     "data": {
      "text/plain": [
       "3"
      ]
     },
     "execution_count": 9,
     "metadata": {},
     "output_type": "execute_result"
    }
   ],
   "source": [
    "lcs_bf(\"NTHU\",\"NCTU\")"
   ]
  },
  {
   "cell_type": "code",
   "execution_count": 10,
   "metadata": {
    "collapsed": false
   },
   "outputs": [],
   "source": [
    "def lcs_dict(x,y,d):\n",
    "    k = str(len(x)) + '-' +str(len(y))\n",
    "    if k in d :\n",
    "        return d[k]\n",
    "    if len(x)==0 or len(y)==0:\n",
    "        return 0\n",
    "    else:\n",
    "        if x[-1] == y[-1]:\n",
    "            sol = lcs_dict(x[:-1],y[:-1],d)+1\n",
    "        else:\n",
    "            sol= max(lcs_dict(x[:-1],y[:],d),lcs_dict(x[:],y[:-1],d))\n",
    "        d[k] = sol\n",
    "        print (\"Insert {}:{}\".format(k,sol))\n",
    "        return sol"
   ]
  },
  {
   "cell_type": "code",
   "execution_count": 11,
   "metadata": {
    "collapsed": false
   },
   "outputs": [
    {
     "name": "stdout",
     "output_type": "stream",
     "text": [
      "Insert 1-1:1\n",
      "Insert 1-2:1\n",
      "Insert 2-3:2\n",
      "Insert 2-1:1\n",
      "Insert 2-2:1\n",
      "Insert 3-1:1\n",
      "Insert 3-2:1\n",
      "Insert 3-3:2\n",
      "Insert 4-4:3\n"
     ]
    },
    {
     "data": {
      "text/plain": [
       "3"
      ]
     },
     "execution_count": 11,
     "metadata": {},
     "output_type": "execute_result"
    }
   ],
   "source": [
    "d = dict()\n",
    "lcs_dict(\"NTHU\",\"NCTU\",d)"
   ]
  },
  {
   "cell_type": "code",
   "execution_count": 12,
   "metadata": {
    "collapsed": false
   },
   "outputs": [],
   "source": [
    "import numpy as np\n",
    "\n",
    "def lcs(x,y):\n",
    "    num_row = len(x)+1\n",
    "    num_col = len(y)+1\n",
    "    a = np.zeros((num_row,num_col),dtype = int)\n",
    "    for r in range (1,num_row):\n",
    "        for c in range(1,num_col):\n",
    "            if x[r-1] == y[c-1]:\n",
    "                a[r,c] = a[r-1,c-1] + 1\n",
    "            else:\n",
    "                a[r,c] = max(a[r-1,c],a[r,c-1])\n",
    "    print (a)\n",
    "    return a[-1:-1]"
   ]
  },
  {
   "cell_type": "code",
   "execution_count": 13,
   "metadata": {
    "collapsed": false
   },
   "outputs": [
    {
     "name": "stdout",
     "output_type": "stream",
     "text": [
      "[[0 0 0 0 0 0 0 0 0]\n",
      " [0 1 1 1 1 1 1 1 1]\n",
      " [0 1 1 2 2 2 2 2 2]\n",
      " [0 1 1 2 2 2 2 2 2]\n",
      " [0 1 1 2 3 3 3 3 3]\n",
      " [0 1 1 2 3 3 3 3 3]\n",
      " [0 1 1 2 3 3 3 3 3]\n",
      " [0 1 1 2 3 3 3 3 3]\n",
      " [0 1 1 2 3 3 3 3 3]]\n"
     ]
    },
    {
     "data": {
      "text/plain": [
       "array([], shape=(0, 9), dtype=int32)"
      ]
     },
     "execution_count": 13,
     "metadata": {},
     "output_type": "execute_result"
    }
   ],
   "source": [
    "lcs(\"NTHUOPEI\",\"NCTUopei\")"
   ]
  },
  {
   "cell_type": "markdown",
   "metadata": {},
   "source": [
    "Text Justification"
   ]
  },
  {
   "cell_type": "code",
   "execution_count": 14,
   "metadata": {
    "collapsed": false
   },
   "outputs": [],
   "source": [
    "def tj_greedy(text,width):\n",
    "    word_list = text.split()\n",
    "    i = 0\n",
    "    while i < len(word_list):\n",
    "        line = word_list[i]\n",
    "        usage = len(word_list[i])\n",
    "        i+=1\n",
    "        while (usage < width and \n",
    "               i < len(word_list) and\n",
    "               len(word_list[i]) + usage + 1 <= width) :\n",
    "            #if line:\n",
    "                line = line + \" \" + word_list [i]\n",
    "                usage+=len(word_list[i])+1\n",
    "            #else:\n",
    "                #line = line + word_list[i]\n",
    "                #usage+=len(word_list[i])\n",
    "                i+=1\n",
    "        print (\"waste:\",width-usage,line)\n",
    "                    "
   ]
  },
  {
   "cell_type": "code",
   "execution_count": 15,
   "metadata": {
    "collapsed": false
   },
   "outputs": [
    {
     "name": "stdout",
     "output_type": "stream",
     "text": [
      "waste: 3 This is\n",
      "waste: 1 the worst\n",
      "waste: 2 of time.\n",
      "waste: 3 This is\n",
      "waste: 2 the best\n",
      "waste: 2 of time.\n"
     ]
    }
   ],
   "source": [
    "text = \"This is the worst of time. This is the best of time.\"\n",
    "tj_greedy(text,10)"
   ]
  },
  {
   "cell_type": "code",
   "execution_count": 40,
   "metadata": {
    "collapsed": false
   },
   "outputs": [],
   "source": [
    "def tj_bf(text,width):\n",
    "    word_list = text.split()\n",
    "    return tj_bf_engine(word_list,width,0,len(word_list)-1)\n",
    "\n",
    "def tj_bf_engine(wl,width,start,end):\n",
    "    if start > end:\n",
    "        return 0\n",
    "    candidates = []\n",
    "    usage = 0\n",
    "    i = start\n",
    "    while(i <= end and\n",
    "          usage + len(wl[i]) <= width) :      \n",
    "        candidates.append((i,(width-usage-1)**2))\n",
    "        usage+= len(wl[i])+1\n",
    "        i+=1\n",
    "    min_cost = min([t[1] +tj_bf_engine(wl,width,t[0]+1,end) for t in candidates])\n",
    "    return min_cost\n",
    "    #print (\"Start={} End={} min_cost={} \".format(start,end,min_cost));"
   ]
  },
  {
   "cell_type": "code",
   "execution_count": 41,
   "metadata": {
    "collapsed": false
   },
   "outputs": [
    {
     "data": {
      "text/plain": [
       "139"
      ]
     },
     "execution_count": 41,
     "metadata": {},
     "output_type": "execute_result"
    }
   ],
   "source": [
    "text = \"This is the worst of time. This is the best of time.\"\n",
    "tj_bf(text,12)"
   ]
  },
  {
   "cell_type": "code",
   "execution_count": 58,
   "metadata": {
    "collapsed": false
   },
   "outputs": [],
   "source": [
    "def tj_dict(text,width):\n",
    "    word_list = text.split()\n",
    "    d = dict()\n",
    "    return tj_dict_engine(word_list,width,0,len(word_list)-1,d)\n",
    "\n",
    "def tj_dict_engine(wl,width,start,end,d):\n",
    "    if start > end:\n",
    "        return 0\n",
    "    key = str(start)+'-'+str(end)\n",
    "    if key in d:\n",
    "        return d[key]\n",
    "    \n",
    "    candidates = []\n",
    "    usage = 0\n",
    "    i = start\n",
    "    while(i <= end and\n",
    "          usage + len(wl[i]) <= width) :      \n",
    "        candidates.append((i,(width-(usage-1))**2))\n",
    "        usage+= len(wl[i])+1\n",
    "        i+=1\n",
    "    min_cost = min([t[1] +tj_dict_engine(wl,width,t[0]+1,end,d) for t in candidates])\n",
    "    d[key] = min_cost\n",
    "    print (\"Start={} End={} min_cost={} \".format(start,end,min_cost));\n",
    "    return min_cost\n",
    "    "
   ]
  },
  {
   "cell_type": "code",
   "execution_count": 61,
   "metadata": {
    "collapsed": false
   },
   "outputs": [
    {
     "name": "stdout",
     "output_type": "stream",
     "text": [
      "Start=11 End=11 min_cost=676 \n",
      "Start=10 End=11 min_cost=529 \n",
      "Start=9 End=11 min_cost=324 \n",
      "Start=8 End=11 min_cost=196 \n",
      "Start=7 End=11 min_cost=121 \n",
      "Start=6 End=11 min_cost=36 \n",
      "Start=5 End=11 min_cost=421 \n",
      "Start=4 End=11 min_cost=340 \n",
      "Start=3 End=11 min_cost=232 \n",
      "Start=2 End=11 min_cost=170 \n",
      "Start=1 End=11 min_cost=136 \n",
      "Start=0 End=11 min_cost=485 \n"
     ]
    },
    {
     "data": {
      "text/plain": [
       "485"
      ]
     },
     "execution_count": 61,
     "metadata": {},
     "output_type": "execute_result"
    }
   ],
   "source": [
    "text = \"This is the worst of time. This is the best of time.\"\n",
    "tj_dict(text,25)"
   ]
  },
  {
   "cell_type": "code",
   "execution_count": 15,
   "metadata": {
    "collapsed": false
   },
   "outputs": [],
   "source": [
    "def usage(wl,start,end):\n",
    "    word_use =0\n",
    "    for i in range(start,end+1):\n",
    "        word_use += len(wl[i])\n",
    "    word_use += end -start\n",
    "    #for i in range(start,end+1):\n",
    "        #if not wl[i].isalpha():\n",
    "            #word_use-=1\n",
    "    return word_use\n",
    "\n",
    "def tj_loop(text,width):\n",
    "    word_list = text.split()\n",
    "    n = len(word_list)\n",
    "    sol_list = [-99999 for i in range(n)]\n",
    "    sol_index = [-99999 for i in range(n)]\n",
    "    sol_list.append(0)\n",
    "    for i in range(n-1,-1,-1):\n",
    "        j = i\n",
    "        curr_cost = 0\n",
    "        min_cost = 99999\n",
    "        index = 0\n",
    "        while (j <= n-1 and usage(word_list,i,j) <= width):\n",
    "            curr_cost = (width-usage(word_list,i,j))**2 + sol_list[j+1]\n",
    "            if curr_cost < min_cost:\n",
    "                min_cost = curr_cost\n",
    "                index = j+1\n",
    "            j+=1\n",
    "        sol_list[i] = min_cost\n",
    "        sol_index[i] = index\n",
    "    return sol_list,sol_index\n",
    "#def tj(text,width):\n",
    "    #sol_list,sol_index = tj_loop(text,width)\n",
    "    #length = len(text)\n",
    "    #for i in range"
   ]
  },
  {
   "cell_type": "code",
   "execution_count": 16,
   "metadata": {
    "collapsed": false,
    "scrolled": true
   },
   "outputs": [
    {
     "data": {
      "text/plain": [
       "([19, 50, 10, 34, 9, 36, 0], [2, 3, 4, 4, 6, 6])"
      ]
     },
     "execution_count": 16,
     "metadata": {},
     "output_type": "execute_result"
    }
   ],
   "source": [
    "text = 'This is the worst of time.'\n",
    "tj_loop(text,10)"
   ]
  },
  {
   "cell_type": "markdown",
   "metadata": {},
   "source": [
    "Matrix Chain Multiplication"
   ]
  },
  {
   "cell_type": "code",
   "execution_count": 5,
   "metadata": {
    "collapsed": false
   },
   "outputs": [
    {
     "data": {
      "text/plain": [
       "70"
      ]
     },
     "execution_count": 5,
     "metadata": {},
     "output_type": "execute_result"
    }
   ],
   "source": [
    "def cm_bf(chain, start, end):\n",
    "    if(start == end):\n",
    "        return 0\n",
    "    return min([cm_bf(chain,start,k)+ cm_bf(chain,k+1,end)+chain[start][0] * chain[end][1] * chain[k][1] for k in range(start,end)])\n",
    "chain = [(3,5),(5,4),(4,2)]\n",
    "cm_bf(chain, 0, len(chain)-1)"
   ]
  },
  {
   "cell_type": "code",
   "execution_count": 6,
   "metadata": {
    "collapsed": false
   },
   "outputs": [
    {
     "name": "stdout",
     "output_type": "stream",
     "text": [
      "insert key 2-3 cost 72\n",
      "insert key 1-2 cost 40\n",
      "insert key 1-3 cost 130\n",
      "insert key 0-1 cost 60\n",
      "insert key 0-2 cost 70\n",
      "insert key 0-3 cost 124\n"
     ]
    },
    {
     "data": {
      "text/plain": [
       "124"
      ]
     },
     "execution_count": 6,
     "metadata": {},
     "output_type": "execute_result"
    }
   ],
   "source": [
    "def cm_dict(chain,start,end, d):\n",
    "    k = str(start)+ '-' + str(end)\n",
    "    if(k in d):\n",
    "        return d[k]\n",
    "    if(start >= end):\n",
    "        return 0\n",
    "    else:\n",
    "        min_cost = min([cm_dict(chain,start,i,d)+cm_dict(chain,i+1,end,d)+chain[start][0]*chain[end][1]*chain[i][1] for i in range(start,end)])\n",
    "        d[k] = min_cost\n",
    "        print(\"insert key {} cost {}\".format(k,min_cost))\n",
    "        return min_cost\n",
    "chain = [(3,5),(5,4),(4,2),(2,9)]\n",
    "d = dict()\n",
    "cm_dict(chain, 0, len(chain)-1,d)\n"
   ]
  },
  {
   "cell_type": "code",
   "execution_count": 8,
   "metadata": {
    "collapsed": false
   },
   "outputs": [
    {
     "data": {
      "text/plain": [
       "array([[  0,  60,  70, 124],\n",
       "       [  0,   0,  40, 130],\n",
       "       [  0,   0,   0,  72],\n",
       "       [  0,   0,   0,   0]])"
      ]
     },
     "execution_count": 8,
     "metadata": {},
     "output_type": "execute_result"
    }
   ],
   "source": [
    "import numpy as np\n",
    "def cm_dict(chain):\n",
    "    n = len(chain)\n",
    "    arr = np.zeros((n,n), dtype = int)\n",
    "    if n <= 1:\n",
    "        return 0\n",
    "    else:\n",
    "        for r in range(n-1,-1,-1):\n",
    "            arr[r,r] = 0\n",
    "            for c in range(r+1,n):\n",
    "                arr[r,c] = min([arr[r,i]+arr[i+1,c]+chain[r][0]*chain[i][1]*chain[c][1] for i in range(r,c)])\n",
    "    return arr\n",
    "chain = [(3,5),(5,4),(4,2),(2,9)]\n",
    "cm_dict(chain)"
   ]
  },
  {
   "cell_type": "markdown",
   "metadata": {},
   "source": [
    "0/1 Knapsack Problem"
   ]
  },
  {
   "cell_type": "code",
   "execution_count": 52,
   "metadata": {
    "collapsed": false
   },
   "outputs": [
    {
     "data": {
      "text/plain": [
       "110"
      ]
     },
     "execution_count": 52,
     "metadata": {},
     "output_type": "execute_result"
    }
   ],
   "source": [
    "import numpy as np\n",
    "def knapsack_dict(item,weight,d,n):\n",
    "    if weight < 0:\n",
    "        return -99999\n",
    "    if n==0:\n",
    "        return 0\n",
    "    \n",
    "    key = str(n) + '-' +str(weight)\n",
    "    \n",
    "    if key in d:\n",
    "        return d[key]\n",
    "    \n",
    "    d[key] = max((knapsack_dict(item,weight-item[n][0],d,n-1)+item[n][1]),knapsack_dict(item,weight,d,n-1))\n",
    "    return  d[key]\n",
    "item = [(5,70),(5,20),(10,110)]\n",
    "d = dict()\n",
    "knapsack_dict(item,10,d,len(item)-1)"
   ]
  },
  {
   "cell_type": "code",
   "execution_count": 53,
   "metadata": {
    "collapsed": false
   },
   "outputs": [
    {
     "data": {
      "text/plain": [
       "20"
      ]
     },
     "execution_count": 53,
     "metadata": {},
     "output_type": "execute_result"
    }
   ],
   "source": [
    "item = [(5,70),(5,20),(10,10)]\n",
    "d = dict()\n",
    "knapsack_dict(item,10,d,len(item)-1)"
   ]
  },
  {
   "cell_type": "code",
   "execution_count": 54,
   "metadata": {
    "collapsed": false
   },
   "outputs": [
    {
     "data": {
      "text/plain": [
       "array([[  0,   0,   0,   0,   0,   0,   0,   0,   0,   0,   0],\n",
       "       [  0,   0,   0,   0,   0,  70,  70,  70,  70,  70,  70],\n",
       "       [  0,   0,   0,   0,   0,  70,  70,  70,  70,  70,  90],\n",
       "       [  0,   0,   0,   0,   0,  70,  70,  70,  70,  70, 110]])"
      ]
     },
     "execution_count": 54,
     "metadata": {},
     "output_type": "execute_result"
    }
   ],
   "source": [
    "import numpy as np\n",
    "def knapsack_arr(item,weight):\n",
    "    length = len(item)\n",
    "    arr = np.zeros((length+1,weight+1),dtype = int)\n",
    "    for i in range(0,length):\n",
    "        for j in range(0,weight+1):\n",
    "            if j - item[i][0] < 0:\n",
    "                arr[i+1][j] = arr[i][j]\n",
    "            else:\n",
    "                arr[i+1][j] = max(arr[i][j],arr[i][j-item[i][0]]+item[i][1])\n",
    "    return arr\n",
    "item = [(5,70),(5,20),(10,110)]\n",
    "knapsack_arr(item,10)"
   ]
  },
  {
   "cell_type": "code",
   "execution_count": 55,
   "metadata": {
    "collapsed": false
   },
   "outputs": [
    {
     "data": {
      "text/plain": [
       "array([[ 0,  0,  0,  0,  0,  0,  0,  0,  0,  0,  0],\n",
       "       [ 0,  0,  0,  0,  0, 70, 70, 70, 70, 70, 70],\n",
       "       [ 0,  0,  0,  0,  0, 70, 70, 70, 70, 70, 90],\n",
       "       [ 0,  0,  0,  0,  0, 70, 70, 70, 70, 70, 90]])"
      ]
     },
     "execution_count": 55,
     "metadata": {},
     "output_type": "execute_result"
    }
   ],
   "source": [
    "item = [(5,70),(5,20),(10,80)]\n",
    "knapsack_arr(item2,10)"
   ]
  },
  {
   "cell_type": "code",
   "execution_count": null,
   "metadata": {
    "collapsed": true
   },
   "outputs": [],
   "source": []
  }
 ],
 "metadata": {
  "kernelspec": {
   "display_name": "Python 3",
   "language": "python",
   "name": "python3"
  },
  "language_info": {
   "codemirror_mode": {
    "name": "ipython",
    "version": 3
   },
   "file_extension": ".py",
   "mimetype": "text/x-python",
   "name": "python",
   "nbconvert_exporter": "python",
   "pygments_lexer": "ipython3",
   "version": "3.6.0"
  }
 },
 "nbformat": 4,
 "nbformat_minor": 2
}
