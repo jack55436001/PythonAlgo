{
 "cells": [
  {
   "cell_type": "code",
   "execution_count": 30,
   "metadata": {
    "collapsed": false
   },
   "outputs": [],
   "source": [
    "def huff_enc(text,d):\n",
    "    stream = []\n",
    "    for s in text:\n",
    "        stream.append(d[s])\n",
    "    return stream\n",
    "def dict_builder(text):\n",
    "    d = dict()\n",
    "    for s in text:\n",
    "        if s in d:\n",
    "            d[s] += 1\n",
    "        else:\n",
    "            d[s] = 1\n",
    "    l = []\n",
    "    for s in d:\n",
    "        l.append((d[s],(s,)))\n",
    "    l.sort(reverse = True)\n",
    "    while len(l)>=2:\n",
    "        t1 = l.pop()\n",
    "        t2 = l.pop()\n",
    "        l.append((t1[0]+t2[0], (t2 ,t1)))\n",
    "        l.sort(reverse = True,key=lambda tup: tup[0])\n",
    "    return d,l"
   ]
  },
  {
   "cell_type": "code",
   "execution_count": 31,
   "metadata": {
    "collapsed": false
   },
   "outputs": [
    {
     "data": {
      "text/plain": [
       "({' ': 11,\n",
       "  '.': 2,\n",
       "  'T': 2,\n",
       "  'b': 1,\n",
       "  'e': 5,\n",
       "  'f': 2,\n",
       "  'h': 4,\n",
       "  'i': 6,\n",
       "  'm': 2,\n",
       "  'o': 3,\n",
       "  'r': 1,\n",
       "  's': 6,\n",
       "  't': 6,\n",
       "  'w': 1},\n",
       " [(52,\n",
       "   ((29,\n",
       "     ((17,\n",
       "       ((9, ((5, ('e',)), (4, ('h',)))),\n",
       "        (8,\n",
       "         ((4, ((2, ('T',)), (2, ('.',)))), (4, ((2, ('m',)), (2, ('f',)))))))),\n",
       "      (12,\n",
       "       ((6, ('i',)),\n",
       "        (6,\n",
       "         ((3, ('o',)),\n",
       "          (3, ((2, ((1, ('r',)), (1, ('b',)))), (1, ('w',)))))))))),\n",
       "    (23, ((12, ((6, ('t',)), (6, ('s',)))), (11, (' ',))))))])"
      ]
     },
     "execution_count": 31,
     "metadata": {},
     "output_type": "execute_result"
    }
   ],
   "source": [
    "dict_builder(\"This is the worst of time. This is the best of time.\")"
   ]
  },
  {
   "cell_type": "code",
   "execution_count": null,
   "metadata": {
    "collapsed": true
   },
   "outputs": [],
   "source": []
  }
 ],
 "metadata": {
  "kernelspec": {
   "display_name": "Python 3",
   "language": "python",
   "name": "python3"
  },
  "language_info": {
   "codemirror_mode": {
    "name": "ipython",
    "version": 3
   },
   "file_extension": ".py",
   "mimetype": "text/x-python",
   "name": "python",
   "nbconvert_exporter": "python",
   "pygments_lexer": "ipython3",
   "version": "3.6.0"
  }
 },
 "nbformat": 4,
 "nbformat_minor": 2
}
