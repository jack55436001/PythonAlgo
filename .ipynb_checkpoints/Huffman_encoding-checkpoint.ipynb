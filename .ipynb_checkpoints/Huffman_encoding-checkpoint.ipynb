{
 "cells": [
  {
   "cell_type": "code",
   "execution_count": 35,
   "metadata": {
    "collapsed": false
   },
   "outputs": [],
   "source": [
    "def huff_enc(text,d):\n",
    "    stream = []\n",
    "    for s in text:\n",
    "        stream.append(d[s])\n",
    "    return stream\n",
    "\n",
    "def huff_dec(stream,h_tree):\n",
    "    dec_text = ''\n",
    "    i = 0\n",
    "    while i < len(stream):\n",
    "        curr_node = h_tree[0]\n",
    "        while len(curr_node[1])==2:\n",
    "            curr_node = curr_node[1][0] if stream[i] == '0' else curr_node[1][1]\n",
    "            i+=1\n",
    "        dec_text = dec_text + curr_node[1][0]\n",
    "    return dec_text\n",
    "\n",
    "def getKey(item):\n",
    "    return item[0]\n",
    "\n",
    "def tree_builder(text):\n",
    "    text_list = list(text)\n",
    "    alphabet = set(text_list)\n",
    "    h_tree = [(text_list.count(c), (c, ))for c in alphabet]\n",
    "    \n",
    "    h_tree = sorted(h_tree , reverse = True , key = getKey)\n",
    "    while len(h_tree) >= 2:\n",
    "        t1 = h_tree.pop()\n",
    "        t2 = h_tree.pop()\n",
    "        h_tree.append((t1[0]+t2[0], (t2 ,t1)))\n",
    "        h_tree = sorted(h_tree , reverse = True , key = getKey)\n",
    "    return h_tree\n",
    "\n",
    "def dict_builder(h_node,code,h_dict):\n",
    "    if len(h_node[1])==1:\n",
    "        h_dict[h_node[1][0]] = code\n",
    "    else:\n",
    "        dict_builder(h_node[1][0],code+'0',h_dict)\n",
    "        dict_builder(h_node[1][1],code+'1',h_dict)\n",
    "        \n",
    "    return \n"
   ]
  },
  {
   "cell_type": "code",
   "execution_count": 91,
   "metadata": {
    "collapsed": false
   },
   "outputs": [
    {
     "name": "stdout",
     "output_type": "stream",
     "text": [
      "Original Stream: It was the best of time. It was the worst of time\n",
      "Encode Stream: 001010001001100010011110000010011101001110111011100010010100110100000011101000110011100100010100010011000100111100000100111010011001010111111100010010100110100000011101000110\n",
      "Decode Stream: It was the best of time. It was the worst of time\n",
      "Compress rate : 92.89795918367348%\n"
     ]
    }
   ],
   "source": [
    "ori_stream = \"It was the best of time. It was the worst of time\"\n",
    "print ('Original Stream: ' + ori_stream)\n",
    "h_tree = tree_builder(ori_stream)\n",
    "h_dict = dict()\n",
    "dict_builder(h_tree[0],'',h_dict)\n",
    "enc_stream = ''.join(huff_enc(ori_stream,h_dict))\n",
    "print ('Encode Stream: ' + enc_stream)\n",
    "dec_stream = huff_dec(enc_stream,h_tree)\n",
    "print ('Decode Stream: ' + dec_stream)\n",
    "\n",
    "import sys\n",
    "compress = len(enc_stream)/(sys.getsizeof('a')*len(ori_stream))\n",
    "print ('Compress rate : {}%'.format((1-compress)*100))\n",
    "\n",
    "\n"
   ]
  },
  {
   "cell_type": "code",
   "execution_count": null,
   "metadata": {
    "collapsed": true
   },
   "outputs": [],
   "source": []
  }
 ],
 "metadata": {
  "kernelspec": {
   "display_name": "Python 3",
   "language": "python",
   "name": "python3"
  },
  "language_info": {
   "codemirror_mode": {
    "name": "ipython",
    "version": 3
   },
   "file_extension": ".py",
   "mimetype": "text/x-python",
   "name": "python",
   "nbconvert_exporter": "python",
   "pygments_lexer": "ipython3",
   "version": "3.6.0"
  }
 },
 "nbformat": 4,
 "nbformat_minor": 2
}
