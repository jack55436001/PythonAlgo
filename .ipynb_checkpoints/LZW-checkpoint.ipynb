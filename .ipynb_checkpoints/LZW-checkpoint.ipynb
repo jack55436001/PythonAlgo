{
 "cells": [
  {
   "cell_type": "code",
   "execution_count": 26,
   "metadata": {
    "collapsed": true
   },
   "outputs": [],
   "source": [
    "def lzw_enc(source):\n",
    "    lzw_dict = {chr(i):chr(i) for i in range(256)}\n",
    "    curr_size = len(lzw_dict)\n",
    "    compressed = []\n",
    "    s = source[0]\n",
    "    for c in source[1:]:\n",
    "        if s+c in lzw_dict:\n",
    "            s = s+c\n",
    "        else:\n",
    "            compressed.append(lzw_dict[s])\n",
    "            lzw_dict[s+c] = curr_size;\n",
    "            curr_size+=1\n",
    "            s = c       \n",
    "    compressed.append(lzw_dict[s])\n",
    "    return compressed,lzw_dict\n",
    "def lzw_dec(compressed):\n",
    "    lzw_dict = {chr(i):chr(i) for i in range(256)}\n",
    "    curr_size = len(lzw_dict)\n",
    "    uncompressed = []\n",
    "    \n",
    "    s = compressed[0]\n",
    "    uncompressed.append(lzw_dict[s])\n",
    "    for k in compressed[1:]:\n",
    "        if k in lzw_dict:\n",
    "            dec_sym = lzw_dict[k]\n",
    "        elif k == curr_size:\n",
    "            dec_sym = s + s[0]\n",
    "            print(dec_sym)\n",
    "        else:\n",
    "            raise VauleError('Bad Compressed Key:%s',k)\n",
    "        lzw_dict[curr_size] = s + dec_sym[0]\n",
    "        uncompressed.append(dec_sym)\n",
    "        \n",
    "        curr_size+=1\n",
    "        s = dec_sym\n",
    "    return ''.join(uncompressed)\n",
    "            \n",
    "            "
   ]
  },
  {
   "cell_type": "code",
   "execution_count": 28,
   "metadata": {
    "collapsed": false
   },
   "outputs": [
    {
     "data": {
      "text/plain": [
       "['a', 'b', 'c', 256, 258, 257, 259, 262, 261, 257]"
      ]
     },
     "execution_count": 28,
     "metadata": {},
     "output_type": "execute_result"
    }
   ],
   "source": [
    "compressed , lzw_dict = lzw_enc('abcabcabcabcabcabcabc')\n",
    "compressed"
   ]
  },
  {
   "cell_type": "code",
   "execution_count": 29,
   "metadata": {
    "collapsed": false
   },
   "outputs": [
    {
     "name": "stdout",
     "output_type": "stream",
     "text": [
      "b\n",
      "c\n",
      "ab\n",
      "ca\n",
      "bc\n",
      "abc\n",
      "abca\n",
      "bca\n",
      "bc\n"
     ]
    },
    {
     "data": {
      "text/plain": [
       "'abcabcabcabcabcabcabc'"
      ]
     },
     "execution_count": 29,
     "metadata": {},
     "output_type": "execute_result"
    }
   ],
   "source": [
    "umcompressed = lzw_dec(compressed)\n",
    "umcompressed"
   ]
  },
  {
   "cell_type": "code",
   "execution_count": null,
   "metadata": {
    "collapsed": true
   },
   "outputs": [],
   "source": []
  }
 ],
 "metadata": {
  "kernelspec": {
   "display_name": "Python 3",
   "language": "python",
   "name": "python3"
  },
  "language_info": {
   "codemirror_mode": {
    "name": "ipython",
    "version": 3
   },
   "file_extension": ".py",
   "mimetype": "text/x-python",
   "name": "python",
   "nbconvert_exporter": "python",
   "pygments_lexer": "ipython3",
   "version": "3.6.0"
  }
 },
 "nbformat": 4,
 "nbformat_minor": 2
}
