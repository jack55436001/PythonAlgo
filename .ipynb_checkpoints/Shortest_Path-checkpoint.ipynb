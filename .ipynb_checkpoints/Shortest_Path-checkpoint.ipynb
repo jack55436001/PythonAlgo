{
 "cells": [
  {
   "cell_type": "code",
   "execution_count": 244,
   "metadata": {
    "collapsed": true
   },
   "outputs": [],
   "source": [
    "INFINITY = 9999999\n",
    "class Edge(object):\n",
    "    def __init__(self, u, v, c):\n",
    "        self.source = u\n",
    "        self.sink = v\n",
    "        self.cost = c\n",
    "    def __repr__(self):\n",
    "        return \"%s-->%s: cost %s\"%(self.source, self.sink, self.cost)\n",
    "class Graph(object):\n",
    "    def __init__(self):\n",
    "        self.inset = {}\n",
    "        self.outset = {}\n",
    "        self.min_cost = {}\n",
    "        self.min_edge = {}\n",
    "    def add_vertex(self,v):\n",
    "        \"\"\"Add a vertex to graph\"\"\"\n",
    "        self.inset[v] = []\n",
    "        self.outset[v] = []\n",
    "    def add_edge(self,u,v,c=0):\n",
    "        e= Edge(u,v,c)\n",
    "        self.outset[u].append(e)\n",
    "        self.inset[v].append(e)\n",
    "    def reset_path(self,source):\n",
    "        for u in self.inset.keys():\n",
    "            self.min_cost[u] = INFINITY\n",
    "        self.min_cost[source] = 0\n",
    "    def sp_bf(self,s,t,cost,path):\n",
    "        print(\"Call s={} t={}\".format(s,t))\n",
    "        if s == t or not self.inset[t]:\n",
    "            return cost,path\n",
    "        else:\n",
    "            return min([self.sp_bf(s,e.source,cost+e.cost,path+[e])\n",
    "                        for e in self.inset[t]])\n",
    "    def sp_dp(self,s,t):\n",
    "        print (\"Call s={} t={}\".format(s,t))\n",
    "        if s == t or not self.inset[t]:\n",
    "            return 0\n",
    "        else:\n",
    "            min_cost,min_edge = min([(self.sp_dp(s,e.source) + e.cost , e)\n",
    "                        if self.min_cost[e.source]==INFINITY\n",
    "                        else (self.min_cost[e.source] + e.cost , e)\n",
    "                        for e in self.inset[t]])\n",
    "            self.min_cost[t],self.min_edge[t] = min_cost,min_edge\n",
    "            return min_cost\n",
    "    def sp_ppath(self,s,t):\n",
    "        cv = t\n",
    "        if self.sp_dp(s,t)==0:return\n",
    "        while cv!=s:\n",
    "            print (self.min_edge[cv])\n",
    "            cv = self.min_edge[cv].source\n",
    "        return"
   ]
  },
  {
   "cell_type": "code",
   "execution_count": 245,
   "metadata": {
    "collapsed": true
   },
   "outputs": [],
   "source": [
    "g = Graph()\n",
    "for v in 'sopqrt':\n",
    "    g.add_vertex(v)\n",
    "g.add_edge('s','o',1)\n",
    "g.add_edge('s','p',5)\n",
    "g.add_edge('o','p',1)\n",
    "g.add_edge('p','r',1)\n",
    "g.add_edge('o','q',5)\n",
    "g.add_edge('r','q',1)\n",
    "g.add_edge('q','t',1)\n",
    "g.add_edge('r','t',5)"
   ]
  },
  {
   "cell_type": "code",
   "execution_count": 246,
   "metadata": {
    "collapsed": false
   },
   "outputs": [
    {
     "data": {
      "text/plain": [
       "{'o': [s-->o: cost 1],\n",
       " 'p': [s-->p: cost 5, o-->p: cost 1],\n",
       " 'q': [o-->q: cost 5, r-->q: cost 1],\n",
       " 'r': [p-->r: cost 1],\n",
       " 's': [],\n",
       " 't': [q-->t: cost 1, r-->t: cost 5]}"
      ]
     },
     "execution_count": 246,
     "metadata": {},
     "output_type": "execute_result"
    }
   ],
   "source": [
    "g.inset"
   ]
  },
  {
   "cell_type": "code",
   "execution_count": 247,
   "metadata": {
    "collapsed": false
   },
   "outputs": [
    {
     "data": {
      "text/plain": [
       "{'o': [o-->p: cost 1, o-->q: cost 5],\n",
       " 'p': [p-->r: cost 1],\n",
       " 'q': [q-->t: cost 1],\n",
       " 'r': [r-->q: cost 1, r-->t: cost 5],\n",
       " 's': [s-->o: cost 1, s-->p: cost 5],\n",
       " 't': []}"
      ]
     },
     "execution_count": 247,
     "metadata": {},
     "output_type": "execute_result"
    }
   ],
   "source": [
    "g.outset"
   ]
  },
  {
   "cell_type": "code",
   "execution_count": 248,
   "metadata": {
    "collapsed": false
   },
   "outputs": [
    {
     "data": {
      "text/plain": [
       "{'o': 9999999, 'p': 9999999, 'q': 9999999, 'r': 9999999, 's': 0, 't': 9999999}"
      ]
     },
     "execution_count": 248,
     "metadata": {},
     "output_type": "execute_result"
    }
   ],
   "source": [
    "g.reset_path('s')\n",
    "g.min_cost"
   ]
  },
  {
   "cell_type": "code",
   "execution_count": 249,
   "metadata": {
    "collapsed": false
   },
   "outputs": [
    {
     "name": "stdout",
     "output_type": "stream",
     "text": [
      "Call s=s t=t\n",
      "Call s=s t=q\n",
      "Call s=s t=o\n",
      "Call s=s t=s\n",
      "Call s=s t=r\n",
      "Call s=s t=p\n",
      "Call s=s t=s\n",
      "Call s=s t=o\n",
      "Call s=s t=s\n",
      "Call s=s t=r\n",
      "Call s=s t=p\n",
      "Call s=s t=s\n",
      "Call s=s t=o\n",
      "Call s=s t=s\n"
     ]
    }
   ],
   "source": [
    "cost, path = g.sp_bf('s','t',0,[])"
   ]
  },
  {
   "cell_type": "code",
   "execution_count": 250,
   "metadata": {
    "collapsed": false
   },
   "outputs": [
    {
     "data": {
      "text/plain": [
       "5"
      ]
     },
     "execution_count": 250,
     "metadata": {},
     "output_type": "execute_result"
    }
   ],
   "source": [
    "cost"
   ]
  },
  {
   "cell_type": "code",
   "execution_count": 251,
   "metadata": {
    "collapsed": false
   },
   "outputs": [
    {
     "data": {
      "text/plain": [
       "[q-->t: cost 1, r-->q: cost 1, p-->r: cost 1, o-->p: cost 1, s-->o: cost 1]"
      ]
     },
     "execution_count": 251,
     "metadata": {},
     "output_type": "execute_result"
    }
   ],
   "source": [
    "path"
   ]
  },
  {
   "cell_type": "code",
   "execution_count": 252,
   "metadata": {
    "collapsed": false
   },
   "outputs": [
    {
     "name": "stdout",
     "output_type": "stream",
     "text": [
      "Call s=s t=t\n",
      "Call s=s t=q\n",
      "Call s=s t=o\n",
      "Call s=s t=r\n",
      "Call s=s t=p\n"
     ]
    },
    {
     "data": {
      "text/plain": [
       "5"
      ]
     },
     "execution_count": 252,
     "metadata": {},
     "output_type": "execute_result"
    }
   ],
   "source": [
    "g.sp_dp('s','t')"
   ]
  },
  {
   "cell_type": "code",
   "execution_count": 253,
   "metadata": {
    "collapsed": false
   },
   "outputs": [
    {
     "data": {
      "text/plain": [
       "{'o': 1, 'p': 2, 'q': 4, 'r': 3, 's': 0, 't': 5}"
      ]
     },
     "execution_count": 253,
     "metadata": {},
     "output_type": "execute_result"
    }
   ],
   "source": [
    "g.min_cost"
   ]
  },
  {
   "cell_type": "code",
   "execution_count": 254,
   "metadata": {
    "collapsed": false
   },
   "outputs": [
    {
     "data": {
      "text/plain": [
       "{'o': s-->o: cost 1,\n",
       " 'p': o-->p: cost 1,\n",
       " 'q': r-->q: cost 1,\n",
       " 'r': p-->r: cost 1,\n",
       " 't': q-->t: cost 1}"
      ]
     },
     "execution_count": 254,
     "metadata": {},
     "output_type": "execute_result"
    }
   ],
   "source": [
    "g.min_edge"
   ]
  },
  {
   "cell_type": "code",
   "execution_count": 256,
   "metadata": {
    "collapsed": false
   },
   "outputs": [
    {
     "name": "stdout",
     "output_type": "stream",
     "text": [
      "Call s=s t=t\n",
      "q-->t: cost 1\n",
      "r-->q: cost 1\n",
      "p-->r: cost 1\n",
      "o-->p: cost 1\n",
      "s-->o: cost 1\n"
     ]
    }
   ],
   "source": [
    "g.sp_ppath('s','t')"
   ]
  },
  {
   "cell_type": "code",
   "execution_count": 257,
   "metadata": {
    "collapsed": false
   },
   "outputs": [
    {
     "data": {
      "text/plain": [
       "{'o': 1, 'p': 2, 'q': 4, 'r': 3, 's': 0, 't': 5}"
      ]
     },
     "execution_count": 257,
     "metadata": {},
     "output_type": "execute_result"
    }
   ],
   "source": [
    "g.min_cost"
   ]
  },
  {
   "cell_type": "code",
   "execution_count": null,
   "metadata": {
    "collapsed": true
   },
   "outputs": [],
   "source": []
  }
 ],
 "metadata": {
  "kernelspec": {
   "display_name": "Python 3",
   "language": "python",
   "name": "python3"
  },
  "language_info": {
   "codemirror_mode": {
    "name": "ipython",
    "version": 3
   },
   "file_extension": ".py",
   "mimetype": "text/x-python",
   "name": "python",
   "nbconvert_exporter": "python",
   "pygments_lexer": "ipython3",
   "version": "3.6.0"
  }
 },
 "nbformat": 4,
 "nbformat_minor": 2
}
