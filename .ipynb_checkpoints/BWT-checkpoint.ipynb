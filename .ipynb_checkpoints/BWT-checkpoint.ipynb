{
 "cells": [
  {
   "cell_type": "code",
   "execution_count": 10,
   "metadata": {
    "collapsed": true
   },
   "outputs": [],
   "source": [
    "def rotate_sort(text):\n",
    "    row = [s for s in text]\n",
    "    length = len(row)\n",
    "    mat = []\n",
    "    for i in range(length):\n",
    "        mat.append(row)\n",
    "        row = row[1:]+ [row[0]]\n",
    "    return sorted(mat)\n",
    "def first_col_dict(mat):\n",
    "    offset_dict = {}\n",
    "    length = len(mat)\n",
    "    for i in range(length):\n",
    "        s = mat[i][0]\n",
    "        if s not in offset_dict:\n",
    "            offset_dict[s] = i\n",
    "    return offset_dict\n",
    "def inv_bwt(mat,offset_dict):\n",
    "    length = len(mat)\n",
    "    last_dict = {}\n",
    "    last_index = [0]*length\n",
    "    for i in range(length):\n",
    "        s = mat[i][-1]\n",
    "        if s not in last_dict:\n",
    "            last_dict[s] = 0\n",
    "        else:\n",
    "            last_dict[s] +=1"
   ]
  },
  {
   "cell_type": "code",
   "execution_count": 11,
   "metadata": {
    "collapsed": false
   },
   "outputs": [],
   "source": [
    "mat = rotate_sort('abaaba$')"
   ]
  },
  {
   "cell_type": "code",
   "execution_count": 12,
   "metadata": {
    "collapsed": false
   },
   "outputs": [
    {
     "name": "stdout",
     "output_type": "stream",
     "text": [
      "7\n"
     ]
    },
    {
     "data": {
      "text/plain": [
       "{'$': 0, 'a': 1, 'b': 5}"
      ]
     },
     "execution_count": 12,
     "metadata": {},
     "output_type": "execute_result"
    }
   ],
   "source": [
    "offset_dict = first_col_dict(mat)\n",
    "offset_dict"
   ]
  },
  {
   "cell_type": "code",
   "execution_count": null,
   "metadata": {
    "collapsed": true
   },
   "outputs": [],
   "source": []
  }
 ],
 "metadata": {
  "kernelspec": {
   "display_name": "Python 3",
   "language": "python",
   "name": "python3"
  },
  "language_info": {
   "codemirror_mode": {
    "name": "ipython",
    "version": 3
   },
   "file_extension": ".py",
   "mimetype": "text/x-python",
   "name": "python",
   "nbconvert_exporter": "python",
   "pygments_lexer": "ipython3",
   "version": "3.6.0"
  }
 },
 "nbformat": 4,
 "nbformat_minor": 2
}
